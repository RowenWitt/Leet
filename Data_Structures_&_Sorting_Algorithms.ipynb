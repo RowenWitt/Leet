{
  "nbformat": 4,
  "nbformat_minor": 0,
  "metadata": {
    "colab": {
      "name": "Data Structures & Sorting Algorithms",
      "provenance": [],
      "toc_visible": true
    },
    "kernelspec": {
      "name": "python3",
      "display_name": "Python 3"
    },
    "language_info": {
      "name": "python"
    }
  },
  "cells": [
    {
      "cell_type": "markdown",
      "metadata": {
        "id": "0jq2-HZ0zpQr"
      },
      "source": [
        "# Data Structures"
      ]
    },
    {
      "cell_type": "markdown",
      "metadata": {
        "id": "kMGshyL5EoVo"
      },
      "source": [
        "## Stack\n"
      ]
    },
    {
      "cell_type": "markdown",
      "metadata": {
        "id": "RRlRNa2x2TX-"
      },
      "source": [
        "###### Stack From Dynamic Array"
      ]
    },
    {
      "cell_type": "code",
      "metadata": {
        "id": "-v2dDHV_Elsk"
      },
      "source": [
        "class d_Stack:\n",
        "  def __init__(self):\n",
        "    self.stack = []\n",
        "\n",
        "  def push(self, item):\n",
        "    self.stack.append(item)\n",
        "\n",
        "  def pop(self):\n",
        "    if self.stack != []:\n",
        "      popped = self.stack.pop()\n",
        "      return popped\n",
        "\n",
        "  def peek(self):\n",
        "    if self.stack != []:\n",
        "      return self.stack[-1]"
      ],
      "execution_count": null,
      "outputs": []
    },
    {
      "cell_type": "code",
      "metadata": {
        "colab": {
          "base_uri": "https://localhost:8080/"
        },
        "id": "Icic6PtTQDKP",
        "outputId": "66b0f3e5-55ca-4874-93a4-f632d924fb37"
      },
      "source": [
        "f = [1,2,3]\n",
        "g = f.pop()\n",
        "g"
      ],
      "execution_count": 3,
      "outputs": [
        {
          "output_type": "execute_result",
          "data": {
            "text/plain": [
              "3"
            ]
          },
          "metadata": {},
          "execution_count": 3
        }
      ]
    },
    {
      "cell_type": "markdown",
      "metadata": {
        "id": "93USwnm_2X4x"
      },
      "source": [
        "###### Stack From Linked List"
      ]
    },
    {
      "cell_type": "code",
      "metadata": {
        "id": "y3QP02HC2bDQ"
      },
      "source": [
        "class Stack:\n",
        "  def __init__(self, value, next):\n",
        "    self.top = None\n",
        "\n",
        "  def push(self, item):\n",
        "    new_node = LinkedListNode(item)\n",
        "    new_node.next = self.top\n",
        "\n",
        "  def pop(self):\n",
        "    if self.top is not None:\n",
        "      popped_node = self.top\n",
        "      self.top = popped_node.next\n",
        "      return popped_node.value\n",
        "  \n",
        "  def peek(self):\n",
        "    if self.top is not None:\n",
        "      reutrn self.top.data"
      ],
      "execution_count": null,
      "outputs": []
    },
    {
      "cell_type": "markdown",
      "metadata": {
        "id": "yjU4RdQ3ErJ2"
      },
      "source": [
        "## Queue"
      ]
    },
    {
      "cell_type": "markdown",
      "metadata": {
        "id": "DhDsIDvS2d7A"
      },
      "source": [
        "###### Queue From Dynamic Array"
      ]
    },
    {
      "cell_type": "code",
      "metadata": {
        "id": "_8iuGqemEs9W"
      },
      "source": [
        "class d_Queue:\n",
        "  def __init__(self):\n",
        "    self.queue = []\n",
        "\n",
        "  def enqueue(self, item):\n",
        "    if self.queue != []:\n",
        "      self.queue.append(item\n",
        "    else:\n",
        "      print('no queue')\n",
        "    \n",
        "  def dequeue(self):\n",
        "    if self.queue != []:\n",
        "      front = self.queue.pop(0)\n"
      ],
      "execution_count": null,
      "outputs": []
    },
    {
      "cell_type": "code",
      "metadata": {
        "colab": {
          "base_uri": "https://localhost:8080/"
        },
        "id": "TDox5irrA7VU",
        "outputId": "71773da6-309b-40d4-887f-91560a8c0881"
      },
      "source": [
        "t = [1,2,3]\n",
        "f = t.pop(0)\n",
        "f\n",
        "t"
      ],
      "execution_count": 2,
      "outputs": [
        {
          "output_type": "execute_result",
          "data": {
            "text/plain": [
              "[2, 3]"
            ]
          },
          "metadata": {},
          "execution_count": 2
        }
      ]
    },
    {
      "cell_type": "markdown",
      "metadata": {
        "id": "Q20690lz2iz2"
      },
      "source": [
        "###### Queue From Linked List"
      ]
    },
    {
      "cell_type": "code",
      "metadata": {
        "id": "FtZtP6fW904M"
      },
      "source": [
        "class Queue:\n",
        "  def __init__(self):\n",
        "    self.front = None\n",
        "    self.rear = None\n",
        "\n",
        "  def enqueue(self, item):\n",
        "    if self.rear is None:\n",
        "      self.front = new_node\n",
        "      self.rear = new_node\n",
        "    else:\n",
        "      self.rear.next = new_node\n",
        "      self.rear = new_node\n",
        "\n",
        "  def dequeue(self):\n",
        "    if self.front is not None:\n",
        "      old_front = self.front\n",
        "      self.front = old_front.next\n",
        "\n",
        "    if self.front is None:\n",
        "      self.rear = None\n",
        "\n",
        "    return old_front"
      ],
      "execution_count": null,
      "outputs": []
    },
    {
      "cell_type": "markdown",
      "metadata": {
        "id": "_Ft_6HnXEtV-"
      },
      "source": [
        "## Linked List"
      ]
    },
    {
      "cell_type": "markdown",
      "metadata": {
        "id": "yRR3lLX2FKHn"
      },
      "source": [
        "#### Singly Linked\n"
      ]
    },
    {
      "cell_type": "code",
      "metadata": {
        "id": "AqW5yo-jEv_U"
      },
      "source": [
        "class s_ListNode:\n",
        "  def __init__(self, value):\n",
        "    self.value = value\n",
        "    self.next = None"
      ],
      "execution_count": null,
      "outputs": []
    },
    {
      "cell_type": "markdown",
      "metadata": {
        "id": "DCQFyO_EFWnd"
      },
      "source": [
        "#### Doubly Linked"
      ]
    },
    {
      "cell_type": "code",
      "metadata": {
        "id": "FvMdET6uFYT9"
      },
      "source": [
        "class d_ListNode:\n",
        "  def __init__(self, value):\n",
        "    self.value = value\n",
        "    self.next = None\n",
        "    self.last = None"
      ],
      "execution_count": null,
      "outputs": []
    },
    {
      "cell_type": "markdown",
      "metadata": {
        "id": "Y1vOMI_IFiID"
      },
      "source": [
        "#### Circularly Linked"
      ]
    },
    {
      "cell_type": "code",
      "metadata": {
        "id": "hjZfQa5lFkLj"
      },
      "source": [
        "class c_ListNode:\n",
        "  def __init__(self, value):\n",
        "    self.value = value\n",
        "    self.next = None  # Maybe an add connection function to limit connections to only last node\n"
      ],
      "execution_count": null,
      "outputs": []
    },
    {
      "cell_type": "markdown",
      "metadata": {
        "id": "zWnJu6CFEwU1"
      },
      "source": [
        "## Binary Trees"
      ]
    },
    {
      "cell_type": "code",
      "metadata": {
        "id": "awROaFHAIshw"
      },
      "source": [
        "class BinaryTree:\n",
        "  def __init__(self, value):\n",
        "    self.value = value\n",
        "    self.left = None\n",
        "    self.right = None"
      ],
      "execution_count": 1,
      "outputs": []
    },
    {
      "cell_type": "markdown",
      "metadata": {
        "id": "ZN87P_hEEyjm"
      },
      "source": [
        "#### Binary Search Tree\n",
        "\n",
        "Because of unique structure where all values lesser than the root node are placed on the left side and all values greater than or equal to the root node are placed on the right side, searching the tree for a certain value becomes somewhat easy.\n",
        "\n",
        "If you always insert to the root than it shoudl sta"
      ]
    },
    {
      "cell_type": "code",
      "metadata": {
        "colab": {
          "base_uri": "https://localhost:8080/"
        },
        "id": "7KhAaf0-EyTn",
        "outputId": "c3f0ef6a-aa6a-4371-ddfa-4cf1a90f200c"
      },
      "source": [
        "class BinarySearchTree:\n",
        "  def __init__(self, value):\n",
        "    # Current node's value\n",
        "    self.value = value\n",
        "    # Value of the node's left child\n",
        "    self.left = None\n",
        "    # Value of the node's right child\n",
        "    self.right = None\n",
        "\n",
        "  def insert(self, value):\n",
        "    # Check if the new node's value is less than our current node's value\n",
        "    if value < self.value:\n",
        "      # If no left child, place there\n",
        "      if not self.left:\n",
        "        self.left = BinarySearchTree(value)\n",
        "      # Otherwise repeat the process\n",
        "      else:\n",
        "        self.left.insert(value)\n",
        "\n",
        "    # Check if the new value is greater or equal to the current node's value\n",
        "    elif value >= self.value:\n",
        "      # if theres' no right child here already, place the new node there\n",
        "      if not self.right:\n",
        "        self.right = BinarySearchTree(value)\n",
        "      else:\n",
        "        # Otherwise repeat the process\n",
        "        self.right.insert(value)\n",
        "\n",
        "\n",
        "    def search(self, target):\n",
        "      if self.value == target:\n",
        "        return self\n",
        "      elif target < self.value:\n",
        "        if self.left is None:\n",
        "          return False\n",
        "        else:\n",
        "          return self.left.search(target)\n",
        "      else:\n",
        "        if self.right is None:\n",
        "          return False\n",
        "        else:\n",
        "          return self.right.search(target)\n"
      ],
      "execution_count": 7,
      "outputs": [
        {
          "output_type": "execute_result",
          "data": {
            "text/plain": [
              "3"
            ]
          },
          "metadata": {},
          "execution_count": 7
        }
      ]
    },
    {
      "cell_type": "code",
      "metadata": {
        "colab": {
          "base_uri": "https://localhost:8080/"
        },
        "id": "MKkco59hSiGF",
        "outputId": "c171a54f-d4ef-4d22-c0db-d4673def075c"
      },
      "source": [
        "arr = [1, 3, 5, 2, 10, 8]   ## So it only works if the first value is the middle value to make true BST\n",
        "for i in range(len(arr)):\n",
        "  if i == 0:\n",
        "    btree = BinarySearchTree(arr[i])\n",
        "  else:\n",
        "    btree.insert(arr[i])\n",
        "\n",
        "print(btree.right.value)\n",
        "print(btree.right.left.value)\n",
        "print(btree.right.right.value)\n",
        "print(btree.right.right.right.value)\n",
        "print(btree.right.right.right.left.value)"
      ],
      "execution_count": 14,
      "outputs": [
        {
          "output_type": "stream",
          "name": "stdout",
          "text": [
            "3\n",
            "2\n",
            "5\n",
            "10\n",
            "8\n"
          ]
        }
      ]
    },
    {
      "cell_type": "markdown",
      "metadata": {
        "id": "4uaYUWl-0LR-"
      },
      "source": [
        "###### Binary Search"
      ]
    },
    {
      "cell_type": "code",
      "metadata": {
        "id": "Puchctlc0Oo1"
      },
      "source": [
        "## Binary search on an array\n",
        "def binary_search(lst, target):  # Assuming sorted\n",
        "\n",
        "  max = lst[0]\n",
        "  min = lst[-1]\n",
        "  check = len(lst) // 2\n",
        "  print(lst, target, check)\n",
        "  if lst[check] == target:\n",
        "    print('Woo')\n",
        "    return check\n",
        "  if lst[check] > target:\n",
        "    lst = lst[:check]\n",
        "  elif lst[check] < target:\n",
        "    lst = lst[check + 1:]\n",
        "    \n",
        "  binary_search(lst, target=target)\n",
        "\n",
        "a = binary_search([1,2,4,5,6], 5)\n",
        "a"
      ],
      "execution_count": null,
      "outputs": []
    },
    {
      "cell_type": "markdown",
      "metadata": {
        "id": "nizxPC2zH6qs"
      },
      "source": [
        "### Tree Traversals"
      ]
    },
    {
      "cell_type": "markdown",
      "metadata": {
        "id": "y13v5pobKCSq"
      },
      "source": [
        "###### Depth First Search"
      ]
    },
    {
      "cell_type": "code",
      "metadata": {
        "id": "ujay8QpzH-Gm"
      },
      "source": [
        ""
      ],
      "execution_count": null,
      "outputs": []
    },
    {
      "cell_type": "markdown",
      "metadata": {
        "id": "Q4DfUnqbKGv3"
      },
      "source": [
        "###### Breadth First Search"
      ]
    },
    {
      "cell_type": "code",
      "metadata": {
        "id": "V2rEHYibKJow"
      },
      "source": [
        ""
      ],
      "execution_count": null,
      "outputs": []
    },
    {
      "cell_type": "markdown",
      "metadata": {
        "id": "6pwQgNmQKKSO"
      },
      "source": [
        "###### InOrder Traversal"
      ]
    },
    {
      "cell_type": "code",
      "metadata": {
        "id": "fJ1q8lsfKQUG"
      },
      "source": [
        "def inorder_traversal(root):\n",
        "  s = []\n",
        "  result = []\n",
        "  while True:\n",
        "    while root:\n",
        "      s.append(root)\n",
        "      root = root.left\n",
        "    if len(s) == 0:\n",
        "      return result\n",
        "    node = s.pop()\n",
        "    result.append(node.val)\n",
        "\n",
        "    root = node.right\n",
        "\n",
        "  return result"
      ],
      "execution_count": null,
      "outputs": []
    },
    {
      "cell_type": "markdown",
      "metadata": {
        "id": "ley95iuTKQ2y"
      },
      "source": [
        "###### PreOrder Traversal"
      ]
    },
    {
      "cell_type": "code",
      "metadata": {
        "id": "KV-mlkgzKS78"
      },
      "source": [
        "def preorder_traversal(root):\n",
        "  s = []\n",
        "  result = []\n",
        "  while True:\n",
        "    while root:\n",
        "      s.append(root)"
      ],
      "execution_count": null,
      "outputs": []
    },
    {
      "cell_type": "markdown",
      "metadata": {
        "id": "IvgbGG3mKUqY"
      },
      "source": [
        "###### PostOrder Traversal"
      ]
    },
    {
      "cell_type": "code",
      "metadata": {
        "id": "2salmqdKKWus"
      },
      "source": [
        ""
      ],
      "execution_count": null,
      "outputs": []
    },
    {
      "cell_type": "markdown",
      "metadata": {
        "id": "JcPhvMno6g5G"
      },
      "source": [
        "###### MaxDepth"
      ]
    },
    {
      "cell_type": "code",
      "metadata": {
        "id": "AvzDYdTS6jXY"
      },
      "source": [
        "def maxDepth(root):\n",
        "  stack = []\n",
        "  if root is not None:\n",
        "    stack.append((1, root))\n",
        "  depth = 0\n",
        "  while stack != []:\n",
        "    current_depth, root = stack.pop()\n",
        "    if root is not None:\n",
        "      depth = max(depth, current_depth)\n",
        "      stack.append((current_depth + 1, root.left))\n",
        "      stack.append((current_depth + 1, root.right))\n",
        "  return depth"
      ],
      "execution_count": null,
      "outputs": []
    },
    {
      "cell_type": "markdown",
      "metadata": {
        "id": "bDprd79bE0b2"
      },
      "source": [
        "## Heap"
      ]
    },
    {
      "cell_type": "code",
      "metadata": {
        "id": "MHp6TRPkE1qv"
      },
      "source": [
        ""
      ],
      "execution_count": null,
      "outputs": []
    },
    {
      "cell_type": "markdown",
      "metadata": {
        "id": "4jyyj8PWE17v"
      },
      "source": [
        "## Hash Table"
      ]
    },
    {
      "cell_type": "code",
      "metadata": {
        "id": "toAwn9NSE4yn"
      },
      "source": [
        "class HashTableEntry:\n",
        "  def __init__(self, key, value):\n",
        "    self.key = key\n",
        "    self. value = value\n",
        "    self. next = NotImplementedError\n",
        "\n",
        "    "
      ],
      "execution_count": null,
      "outputs": []
    },
    {
      "cell_type": "markdown",
      "metadata": {
        "id": "4CM5WDUOE5EH"
      },
      "source": [
        "## Graph"
      ]
    },
    {
      "cell_type": "code",
      "metadata": {
        "id": "CJSUr-ShE61V"
      },
      "source": [
        "# Makes enough sense, need to play around with this and do some traversals\n",
        "\n",
        "class Node:\n",
        "  def __init__(self, value):\n",
        "    self.value = value\n",
        "    self.connections = {}\n",
        "\n",
        "\n",
        "class Vertex:\n",
        "  def __init__(self, value):\n",
        "    self.value = value\n",
        "    self.connections = {}\n",
        "\n",
        "  def add_connections(self, vert, weight = 0):\n",
        "    self.connections[vert] = weight\n",
        "\n",
        "  def get_connections(self):\n",
        "    return self.connections.keys()\n",
        "\n",
        "  def get_value(self):\n",
        "    return self.value\n",
        "\n",
        "  def get_weights(self, vert):\n",
        "    return self.connections[vert]\n",
        "\n",
        "\n",
        "class Graph:\n",
        "  def __init__(self, vert):\n",
        "    return vert in self.vertices\n",
        "\n",
        "  def iter(self):\n",
        "    return iter(self.vertices.values)\n",
        "\n",
        "  def add_vertex(self, value):\n",
        "    self.count += 1\n",
        "    new_vert = Vertex(value)\n",
        "    self.vertices[value] = new_vert\n",
        "    return new_vert\n",
        "\n",
        "  def get_vertices(self):\n",
        "    return self.vertices.keys()"
      ],
      "execution_count": null,
      "outputs": []
    },
    {
      "cell_type": "markdown",
      "metadata": {
        "id": "TRP-rd62zv97"
      },
      "source": [
        "# Sorting Algorithms"
      ]
    },
    {
      "cell_type": "code",
      "metadata": {
        "id": "IKHUS0eYzyI_"
      },
      "source": [
        ""
      ],
      "execution_count": null,
      "outputs": []
    }
  ]
}