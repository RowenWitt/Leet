{
 "cells": [
  {
   "cell_type": "markdown",
   "id": "2679e18e",
   "metadata": {},
   "source": [
    "### Rotate Image\n",
    "Note: Try to solve this task in-place (with O(1) additional memory), since this is what you'll be asked to do during an interview.\n",
    "\n",
    "You are given an n x n 2D matrix that represents an image. Rotate the image by 90 degrees (clockwise)."
   ]
  },
  {
   "cell_type": "code",
   "execution_count": 41,
   "id": "a95aee00",
   "metadata": {},
   "outputs": [],
   "source": [
    "def rotateImage(x):\n",
    "    if len(x) % 2 == 1:\n",
    "        middle = x[len(x)//2][len(x)//2]\n",
    "        top = x[0:middle]\n",
    "    else:\n",
    "        Row1 = (len(x) // 2) - 1\n",
    "        Row2 = (len(x) // 2)\n",
    "        Col1 = (len(x) // 2) - 1\n",
    "        Col2 = (len(x) // 2) + 1\n",
    "        \n",
    "        middle = [x[Row1][Col1:Col2],\n",
    "                  x[Row2][Col1:Col2]]\n",
    "        top = x[0:Row2]\n",
    "    # How do I get list from tuple without double iterating back through? > call list on it\n",
    "    rot = [list(rows)[::-1] for rows in list(zip(*x))]\n",
    "    print(rot)\n",
    "    # Done"
   ]
  },
  {
   "cell_type": "code",
   "execution_count": 37,
   "id": "ec25a6b9",
   "metadata": {},
   "outputs": [
    {
     "data": {
      "text/plain": [
       "[0, 1]"
      ]
     },
     "execution_count": 37,
     "metadata": {},
     "output_type": "execute_result"
    }
   ],
   "source": [
    "list((0,1))"
   ]
  },
  {
   "cell_type": "code",
   "execution_count": 42,
   "id": "0255ef9a",
   "metadata": {},
   "outputs": [
    {
     "name": "stdout",
     "output_type": "stream",
     "text": [
      "3\n",
      "[[10, 9, 6, 3, 7], [6, 10, 2, 9, 7], [7, 6, 3, 8, 2]]\n",
      "(6, 8, 7, 6, 10)\n",
      "[[6, 8, 7, 6, 10], [8, 9, 6, 10, 9], [6, 7, 3, 2, 6], [8, 9, 8, 9, 3], [2, 9, 2, 7, 7]]\n"
     ]
    }
   ],
   "source": [
    "rotateImage(b)\n"
   ]
  },
  {
   "cell_type": "code",
   "execution_count": 13,
   "id": "279852b4",
   "metadata": {},
   "outputs": [],
   "source": [
    "# Test 1\n",
    "a = [[1,2,3], \n",
    "     [4,5,6], \n",
    "     [7,8,9]]\n",
    "\n",
    "output_a = [[7,4,1], \n",
    "            [8,5,2], \n",
    "            [9,6,3]]\n",
    "\n",
    "# Test 2\n",
    "b = [[10,9,6,3,7], \n",
    "     [6,10,2,9,7], \n",
    "     [7,6,3,8,2], \n",
    "     [8,9,7,9,9], \n",
    "     [6,8,6,8,2]]\n",
    "\n",
    "output_b = [[6,8,7,6,10], \n",
    "            [8,9,6,10,9], \n",
    "            [6,7,3,2,6], \n",
    "            [8,9,8,9,3], \n",
    "            [2,9,2,7,7]]\n",
    "\n",
    "# Test 3\n",
    "c = [[40,12,15,37,33,11,45,13,25,3 ], \n",
    "     [37,35,15,43,23,12,22,29,46,43], \n",
    "     [44,19,15,12,30,2, 45,7, 47,6 ], \n",
    "     [48,4, 40,10,16,22,18,36,27,48], \n",
    "     [45,17,36,28,47,46,8, 4, 17,3 ], \n",
    "     [14,9, 33,1, 6, 31,7, 38,25,17], \n",
    "     [31,9, 17,11,29,42,38,10,48,6 ], \n",
    "     [12,13,42,3, 47,24,28,22,3, 47], \n",
    "     [38,23,26,3, 23,27,14,40,15,22], \n",
    "     [8, 46,20,21,35,4, 36,18,32,3]]\n",
    "\n",
    "output_c = [[8, 38,12,31,14,45,48,44,37,40], \n",
    "            [46,23,13,9, 9, 17,4, 19,35,12], \n",
    "            [20,26,42,17,33,36,40,15,15,15], \n",
    "            [21,3, 3, 11,1, 28,10,12,43,37], \n",
    "            [35,23,47,29,6, 47,16,30,23,33], \n",
    "            [4, 27,24,42,31,46,22,2, 12,11], \n",
    "            [36,14,28,38,7, 8, 18,45,22,45], \n",
    "            [18,40,22,10,38,4, 36,7, 29,13], \n",
    "            [32,15,3, 48,25,17,27,47,46,25], \n",
    "            [3, 22,47,6, 17,3, 48,6, 43,3 ]]\n"
   ]
  },
  {
   "cell_type": "markdown",
   "id": "ffd7d2c5",
   "metadata": {},
   "source": [
    "In the popular Minesweeper game you have a board with some mines and those cells that don't contain a mine have a number in it that indicates the total number of mines in the neighboring cells. Starting off with some arrangement of mines we want to create a Minesweeper game setup."
   ]
  },
  {
   "cell_type": "code",
   "execution_count": 119,
   "id": "6da1f5ca",
   "metadata": {},
   "outputs": [
    {
     "ename": "ValueError",
     "evalue": "setting an array element with a sequence.",
     "output_type": "error",
     "traceback": [
      "\u001b[0;31m---------------------------------------------------------------------------\u001b[0m",
      "\u001b[0;31mTypeError\u001b[0m                                 Traceback (most recent call last)",
      "\u001b[0;31mTypeError\u001b[0m: float() argument must be a string or a number, not 'list'",
      "\nThe above exception was the direct cause of the following exception:\n",
      "\u001b[0;31mValueError\u001b[0m                                Traceback (most recent call last)",
      "\u001b[0;32m<ipython-input-119-afb8c194f5e9>\u001b[0m in \u001b[0;36m<module>\u001b[0;34m\u001b[0m\n\u001b[1;32m    113\u001b[0m      [0, 0, 0]]\n\u001b[1;32m    114\u001b[0m \u001b[0;34m\u001b[0m\u001b[0m\n\u001b[0;32m--> 115\u001b[0;31m \u001b[0mMineSweeper\u001b[0m\u001b[0;34m(\u001b[0m\u001b[0ma\u001b[0m\u001b[0;34m)\u001b[0m\u001b[0;34m\u001b[0m\u001b[0;34m\u001b[0m\u001b[0m\n\u001b[0m\u001b[1;32m    116\u001b[0m \u001b[0mg\u001b[0m\u001b[0;34m\u001b[0m\u001b[0;34m\u001b[0m\u001b[0m\n",
      "\u001b[0;32m<ipython-input-119-afb8c194f5e9>\u001b[0m in \u001b[0;36mMineSweeper\u001b[0;34m(x)\u001b[0m\n\u001b[1;32m    101\u001b[0m                     \u001b[0;32mif\u001b[0m \u001b[0mx\u001b[0m\u001b[0;34m[\u001b[0m\u001b[0mrow\u001b[0m\u001b[0;34m+\u001b[0m\u001b[0;36m1\u001b[0m\u001b[0;34m]\u001b[0m\u001b[0;34m[\u001b[0m\u001b[0mcol\u001b[0m\u001b[0;34m-\u001b[0m\u001b[0;36m1\u001b[0m\u001b[0;34m]\u001b[0m \u001b[0;34m==\u001b[0m \u001b[0;32mTrue\u001b[0m\u001b[0;34m:\u001b[0m\u001b[0;34m\u001b[0m\u001b[0;34m\u001b[0m\u001b[0m\n\u001b[1;32m    102\u001b[0m                         \u001b[0mcount\u001b[0m \u001b[0;34m+=\u001b[0m \u001b[0;36m1\u001b[0m\u001b[0;34m\u001b[0m\u001b[0;34m\u001b[0m\u001b[0m\n\u001b[0;32m--> 103\u001b[0;31m             \u001b[0mout\u001b[0m\u001b[0;34m[\u001b[0m\u001b[0mrow\u001b[0m\u001b[0;34m]\u001b[0m\u001b[0;34m[\u001b[0m\u001b[0mcol\u001b[0m\u001b[0;34m]\u001b[0m \u001b[0;34m=\u001b[0m \u001b[0;34m[\u001b[0m\u001b[0mcount\u001b[0m\u001b[0;34m]\u001b[0m\u001b[0;34m\u001b[0m\u001b[0;34m\u001b[0m\u001b[0m\n\u001b[0m\u001b[1;32m    104\u001b[0m \u001b[0;34m\u001b[0m\u001b[0m\n\u001b[1;32m    105\u001b[0m     \u001b[0;32mreturn\u001b[0m \u001b[0mout\u001b[0m\u001b[0;34m\u001b[0m\u001b[0;34m\u001b[0m\u001b[0m\n",
      "\u001b[0;31mValueError\u001b[0m: setting an array element with a sequence."
     ]
    }
   ],
   "source": [
    "def MineSweeper(x):\n",
    "    MR = len(x)\n",
    "    MC = len(x[0])\n",
    "    out = np.zeros([MR,MC])\n",
    "    for row in range(MR):\n",
    "        for col in range(MC):\n",
    "\n",
    "            count = 0\n",
    "            if row == 0:                   # Top row\n",
    "                if col == 0:               # Left side\n",
    "                    if x[row][col+1] == True:\n",
    "                        count += 1\n",
    "                    if x[row+1][col+1] == True:\n",
    "                        count += 1\n",
    "                    if x[row+1][col] == True:\n",
    "                        count += 1\n",
    "                elif col == MC - 1:        # Right Side\n",
    "                    if x[row][col-1] == True:\n",
    "                        count += 1\n",
    "                    if x[row+1][col-1] == True:\n",
    "                        count += 1\n",
    "                    if x[row-1][col-1] == True:\n",
    "                        count += 1\n",
    "                else:                      # Between\n",
    "                    if x[row][col-1] == True:\n",
    "                        count += 1\n",
    "                    if x[row+1][col-1] == True:\n",
    "                        count += 1\n",
    "                    if x[row+1][col] == True:\n",
    "                        count += 1\n",
    "                    if x[row+1][col+1] == True:\n",
    "                        count += 1\n",
    "                    if x[row][col+1] == True:\n",
    "                        count+=1\n",
    "            elif row == MR - 1:            # Bottom row\n",
    "                if col == 0:               # Left side\n",
    "                    if x[row-1][col] == True:\n",
    "                        count += 1\n",
    "                    if x[row-1][col+1] == True:\n",
    "                        count += 1\n",
    "                    if x[row][col+1] == True:\n",
    "                        count += 1\n",
    "                elif col == MC - 1:        # Right Side\n",
    "                    if x[row][col-1] == True:\n",
    "                        count += 1\n",
    "                    if x[row-1][col-1] == True:\n",
    "                        count += 1\n",
    "                    if x[row-1][col] == True:\n",
    "                        count += 1\n",
    "                else:\n",
    "                    if x[row][col-1] == True:\n",
    "                        count += 1\n",
    "                    if x[row-1][col-1] == True:\n",
    "                        count += 1\n",
    "                    if x[row-1][col] == True:\n",
    "                        count += 1\n",
    "                    if x[row-1][col+1] == True:\n",
    "                        count += 1\n",
    "                    if x[row][col+1] == True:\n",
    "                        count += 1\n",
    "            else:                          # Middle rows\n",
    "                if col == 0: # Left side\n",
    "                    if x[row-1][col] == True:\n",
    "                        count += 1\n",
    "                    if x[row-1][col+1] == True:\n",
    "                        count += 1\n",
    "                    if x[row][col+1] == True:\n",
    "                        count += 1\n",
    "                    if x[row+1][col+1] == True:\n",
    "                        count += 1\n",
    "                    if x[row+1][col] == True:\n",
    "                        count += 1\n",
    "                elif col == MC - 1: # Right Side\n",
    "                    if x[row-1][col] == True:\n",
    "                        count += 1\n",
    "                    if x[row-1][col-1] == True:\n",
    "                        count += 1\n",
    "                    if x[row][col-1] == True:\n",
    "                        count += 1\n",
    "                    if x[row+1][col-1] == True:\n",
    "                        count += 1\n",
    "                    if x[row+1][col] == True:\n",
    "                        count += 1\n",
    "                else:\n",
    "                    print(row, col)\n",
    "                    print(x[row-1][col-1])\n",
    "                    if x[row-1][col-1] == True:\n",
    "                        count += 1\n",
    "                    if x[row-1][col] == True:\n",
    "                        count += 1\n",
    "                    if x[row-1][col+1] == True:\n",
    "                        count += 1\n",
    "                    if x[row][col-1] == True:\n",
    "                        count += 1\n",
    "                    if x[row][col+1] == True:\n",
    "                        count += 1\n",
    "                    if x[row+1][col+1] == True:\n",
    "                        count += 1\n",
    "                    if x[row+1][col] == True:\n",
    "                        count += 1\n",
    "                    if x[row+1][col-1] == True:\n",
    "                        count += 1\n",
    "            out[row][col] = [count]\n",
    "                \n",
    "    return out\n",
    "\n",
    "\n",
    "# a = [[True,False,False], \n",
    "#      [False,True,False], \n",
    "#      [False,False,False]]\n",
    "a = [[1, 0, 0],\n",
    "     [0, 1, 0],\n",
    "     [0, 0, 0]]\n",
    "            \n",
    "MineSweeper(a)\n",
    "g"
   ]
  },
  {
   "cell_type": "code",
   "execution_count": 114,
   "id": "b94e02ec",
   "metadata": {},
   "outputs": [
    {
     "data": {
      "text/plain": [
       "array([[0., 0., 0.],\n",
       "       [0., 0., 0.],\n",
       "       [0., 0., 0.]])"
      ]
     },
     "execution_count": 114,
     "metadata": {},
     "output_type": "execute_result"
    }
   ],
   "source": [
    "import numpy as np\n",
    "\n",
    "np.zeros([3,3])"
   ]
  },
  {
   "cell_type": "code",
   "execution_count": 83,
   "id": "3e240d18",
   "metadata": {},
   "outputs": [],
   "source": [
    "\n",
    "a = [[True,False,False], \n",
    "     [False,True,False], \n",
    "     [False,False,False]]\n",
    "\n",
    "out_a = [[1,2,1], \n",
    "         [2,1,1], \n",
    "         [1,1,1]]\n",
    "\n",
    "#_____\n",
    "\n",
    "\n",
    "b = [[True,False,False,True], \n",
    "     [False,False,True,False], \n",
    "     [True,True,False,True]]\n",
    "\n",
    "out_b = [[0,2,2,1], \n",
    "         [3,4,3,3], \n",
    "         [1,2,3,1]]\n",
    "\n",
    "#______\n",
    "\n",
    "c = [[True,True,True], \n",
    "     [True,True,True], \n",
    "     [True,True,True]]\n",
    "\n",
    "\n",
    "out_c = [[3,5,3], \n",
    "         [5,8,5], \n",
    "         [3,5,3]]"
   ]
  },
  {
   "cell_type": "markdown",
   "id": "6c86798f",
   "metadata": {},
   "source": [
    "### Sudoku\n",
    "\n",
    "Sudoku is a number-placement puzzle. The objective is to fill a 9 × 9 grid with numbers in such a way that each column, each row, and each of the nine 3 × 3 sub-grids that compose the grid all contain all of the numbers from 1 to 9 one time.\n",
    "\n",
    "Implement an algorithm that will check whether the given grid of numbers represents a valid Sudoku puzzle according to the layout rules described above. Note that the puzzle represented by grid does not have to be solvable.\n",
    "\n",
    "\n",
    "#### Example 2\n",
    "the output should be\n",
    "sudoku2(grid) = false.\n",
    "\n",
    "The given grid is not correct because there are two 1s in the second column. Each column, each row, and each 3 × 3 subgrid can only contain the numbers 1 through 9 one time.\n",
    "\n"
   ]
  },
  {
   "cell_type": "code",
   "execution_count": null,
   "id": "3b8c7bb9",
   "metadata": {},
   "outputs": [],
   "source": [
    "grid = [['.', '.', '.', '1', '4', '.', '.', '2', '.'],\n",
    "        ['.', '.', '6', '.', '.', '.', '.', '.', '.'],\n",
    "        ['.', '.', '.', '.', '.', '.', '.', '.', '.'],\n",
    "        ['.', '.', '1', '.', '.', '.', '.', '.', '.'],\n",
    "        ['.', '6', '7', '.', '.', '.', '.', '.', '9'],\n",
    "        ['.', '.', '.', '.', '.', '.', '8', '1', '.'],\n",
    "        ['.', '3', '.', '.', '.', '.', '.', '.', '6'],\n",
    "        ['.', '.', '.', '.', '.', '7', '.', '.', '.'],\n",
    "        ['.', '.', '.', '5', '.', '.', '.', '7', '.']]\n",
    "\n",
    "a = True\n",
    "\n",
    "\n",
    "grid = [['.', '.', '.', '.', '2', '.', '.', '9', '.'],\n",
    "        ['.', '.', '.', '.', '6', '.', '.', '.', '.'],\n",
    "        ['7', '1', '.', '.', '7', '5', '.', '.', '.'],\n",
    "        ['.', '7', '.', '.', '.', '.', '.', '.', '.'],\n",
    "        ['.', '.', '.', '.', '8', '3', '.', '.', '.'],\n",
    "        ['.', '.', '8', '.', '.', '7', '.', '6', '.'],\n",
    "        ['.', '.', '.', '.', '.', '2', '.', '.', '.'],\n",
    "        ['.', '1', '.', '2', '.', '.', '.', '.', '.'],\n",
    "        ['.', '2', '.', '.', '3', '.', '.', '.', '.']]\n",
    "\n",
    "a = False"
   ]
  }
 ],
 "metadata": {
  "kernelspec": {
   "display_name": "Python 3",
   "language": "python",
   "name": "python3"
  },
  "language_info": {
   "codemirror_mode": {
    "name": "ipython",
    "version": 3
   },
   "file_extension": ".py",
   "mimetype": "text/x-python",
   "name": "python",
   "nbconvert_exporter": "python",
   "pygments_lexer": "ipython3",
   "version": "3.8.8"
  }
 },
 "nbformat": 4,
 "nbformat_minor": 5
}
